{
  "nbformat": 4,
  "nbformat_minor": 0,
  "metadata": {
    "colab": {
      "provenance": [],
      "authorship_tag": "ABX9TyOklPhnQtUfMvqjIx0x/BtC",
      "include_colab_link": true
    },
    "kernelspec": {
      "name": "python3",
      "display_name": "Python 3"
    },
    "language_info": {
      "name": "python"
    }
  },
  "cells": [
    {
      "cell_type": "markdown",
      "metadata": {
        "id": "view-in-github",
        "colab_type": "text"
      },
      "source": [
        "<a href=\"https://colab.research.google.com/github/hadil-sgh/-Machine-Learning-Projects/blob/main/Speech%20Recognition%20Projects/Audio_Processing_Basics.ipynb\" target=\"_parent\"><img src=\"https://colab.research.google.com/assets/colab-badge.svg\" alt=\"Open In Colab\"/></a>"
      ]
    },
    {
      "cell_type": "markdown",
      "source": [
        "Audio file Format\n",
        "\n",
        " mp3 --> Lossy compresssion Format\n",
        "\n",
        " flac --> Lossless compresssion Format permet to perfectly reconstract the data\n",
        "\n",
        " wav --> Uncompressed Format CD audio Quality\n",
        "\n"
      ],
      "metadata": {
        "id": "g5wWqBiyUy53"
      }
    },
    {
      "cell_type": "code",
      "execution_count": 2,
      "metadata": {
        "id": "waACajvBQGxU"
      },
      "outputs": [],
      "source": [
        " import wave"
      ]
    },
    {
      "cell_type": "markdown",
      "source": [
        "Audio Signal Parameters\n",
        " - Number of channels 1 or 2 number of indepandent audio channels\n",
        " - sample width number of bytes\n",
        " - framerate/sample_rate\n",
        " - number of frames\n",
        " - value of frames"
      ],
      "metadata": {
        "id": "mEMCeD0gVlAu"
      }
    }
  ]
}